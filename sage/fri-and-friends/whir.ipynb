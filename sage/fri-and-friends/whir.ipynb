{
 "cells": [
  {
   "cell_type": "markdown",
   "metadata": {},
   "source": [
    "# WHIR: Reed–Solomon Proximity Testing with Super-Fast Verification"
   ]
  },
  {
   "cell_type": "markdown",
   "metadata": {},
   "source": [
    "[WHIR](https://eprint.iacr.org/2024/1586) is a multivariate Polynomial Commitment Scheme (PCS) with three main ideas combined into one:\n",
    "\n",
    "1. Using sumcheck as a _proof_ of multilinear polynomial commitment. \n",
    "    Given, a multilinear polynomial $f(x_1, \\cdots, x_\\mu)$, it's \n",
    "    evaluation at a point $\\vec{a}$ can be written as \n",
    "    $f(\\vec{a}) = \\sum_{\\vec{b}\\in \\{0,1\\}^\\mu} f(\\vec{b})\\cdot \\mathsf{eq}(\\vec{b},\\vec{a})$.\n",
    "    The sumcheck protocol _reduces_ a claim of this form to a \n",
    "    claim about evaluating $f(\\vec{x})$ at a random point \n",
    "    $\\vec{r}$ of verifier's choosing. But this causes a problem: \n",
    "    If the verifier could not evaluate $f(\\vec{a})$ in the first place, \n",
    "    why would it be able to evaluate $f(\\vec{r})$? \n",
    "\n",
    "    The first main idea in WHIR (which first appeared in \n",
    "    [BaseFold](https://eprint.iacr.org/2023/1705.pdf)) \n",
    "    is that instead of reducing the sumcheck claim to a _random evaluation_, \n",
    "    one can **reduce the sumcheck claim to a Proof of Proximity** and a final evaluation. \n",
    "    To achieve this, WHIR intermixes sumcheck rounds with FRI rounds, and relies on \n",
    "    consistancy checks across FRI proof oracles to ensure soundness \n",
    "    across rounds. By the last round, the FRI proof oracle is small enough that\n",
    "    the sumcheck value can be directly computed and checked against expected value. \n",
    "    This is the jist of Basefold/WHIR reduction.\n",
    "\n",
    "3. The second idea in WHIR is to use lower rate codes to minimize FRI query \n",
    "   complexity (this idea first appeared in [STIR](https://eprint.iacr.org/2024/390.pdf) paper). Unlike in STIR, however, \n",
    "   WHIR elegantly avoids division operations during inter-round \n",
    "   proof-oracle consistancy checks by simply updating the sumcheck claim \n",
    "   both on prover and verifier side. \n",
    "\n",
    "4. The third idea is to use out of domain (OOD) queries to eliminate \"pretenders.\" This allows \n",
    "   WHIR to achieve better soundness even in in list-decoding region. This idea first appeared in [DEEP-FRI](https://www.math.toronto.edu/swastik/deep-fri.pdf) paper."
   ]
  },
  {
   "cell_type": "markdown",
   "metadata": {},
   "source": [
    "The following code describes a run of the protocol. All the SageMath WHIR code is located in [src/whir.py](./src/whir.py) directory.\n",
    "\n",
    "File [src/proth_primes.py](./src/proth_primes.py) has a long list of [proth prime](https://en.wikipedia.org/wiki/Proth_prime), which are prime numbers of the form $k\\cdot2^n$ for different values of $k$ and $n$. These primes are convinient for NTT operations."
   ]
  },
  {
   "cell_type": "code",
   "execution_count": 1,
   "metadata": {
    "vscode": {
     "languageId": "python"
    }
   },
   "outputs": [],
   "source": [
    "%load_ext autoreload\n",
    "%autoreload 2\n",
    "\n",
    "from src.proth_primes import proth_in_range\n",
    "from src.whir import *\n",
    "from sage.rings.finite_rings.all import GF\n",
    "from sage.rings.polynomial.all import PolynomialRing\n",
    "from sage.misc.functional import log\n",
    "from sage.misc.prandom import random"
   ]
  },
  {
   "cell_type": "code",
   "execution_count": 2,
   "metadata": {
    "vscode": {
     "languageId": "python"
    }
   },
   "outputs": [
    {
     "name": "stdout",
     "output_type": "stream",
     "text": [
      "Using prime 2013265921 = 15⋅2^27 + 1\n",
      "Maximal 2-sylow multiplicative generator: 440564289\n",
      "Maximal 2-sylow multiplicative power: 27\n"
     ]
    }
   ],
   "source": [
    "(p, k, n) = proth_in_range(15, 15, 27,27)\n",
    "print(f\"Using prime {p} = {k}⋅2^{n} + 1\")\n",
    "Fq = GF(p)\n",
    "omega = Fq.multiplicative_generator() \n",
    "omega = omega**k\n",
    "omega_2sylow_expo = log(omega.multiplicative_order(), 2)\n",
    "print(f\"Maximal 2-sylow multiplicative generator: {omega}\")\n",
    "print(f\"Maximal 2-sylow multiplicative power: {omega_2sylow_expo}\")"
   ]
  },
  {
   "cell_type": "markdown",
   "metadata": {},
   "source": [
    "---\n",
    "### Setup\n",
    "\n",
    "Creating WHIR sumcheck with four variables and using a random multilinear polynomial."
   ]
  },
  {
   "cell_type": "code",
   "execution_count": 3,
   "metadata": {
    "vscode": {
     "languageId": "python"
    }
   },
   "outputs": [
    {
     "name": "stdout",
     "output_type": "stream",
     "text": [
      "Using polyomial: X₀*X₁*X₂ - 2*X₀*X₁ + 3*X₀*X₂ - 4*X₁*X₂ + 5*X₀ - 6*X₂ + 7\n",
      "Evaluation point: [5, 6, 7]\n",
      "Evaluated value: 77\n"
     ]
    }
   ],
   "source": [
    "variables_count = 3\n",
    "code_rate_factor = 8\n",
    "sumcheck_rounds = 2\n",
    "shift_queries = 5\n",
    "\n",
    "PolyRing = gen_mvariate_ring(Fq, variables_count=variables_count)\n",
    "WeightRing = PolynomialRing(PolyRing, \"Z\") \n",
    "\n",
    "X0, X1, X2 = PolyRing.gens()\n",
    "Z = WeightRing.gen()\n",
    "\n",
    "input_poly = X0*X1*X2 - 2*X0*X1 + 3*X0*X2 - 4*X1*X2 + 5*X0 - 6*X2 + 7 # random_multilinear_poly(PolyRing);\n",
    "evaluation_point = [5, 6, 7] # [Fq.random_element() for _ in range(variables_count)]\n",
    "\n",
    "pcs_evaluation_claim = input_poly(evaluation_point)\n",
    "\n",
    "print(f\"Using polyomial: {input_poly}\")\n",
    "print(f\"Evaluation point: {evaluation_point}\")\n",
    "print(f\"Evaluated value: {input_poly(evaluation_point)}\")"
   ]
  },
  {
   "cell_type": "code",
   "execution_count": 4,
   "metadata": {
    "vscode": {
     "languageId": "python"
    }
   },
   "outputs": [
    {
     "name": "stdout",
     "output_type": "stream",
     "text": [
      "Using NTT group generator: 1721589904, order: 64\n"
     ]
    }
   ],
   "source": [
    "ntt_order = code_rate_factor*(2**variables_count)\n",
    "omega_order = omega.multiplicative_order()\n",
    "assert omega_order % ntt_order == 0\n",
    "coset_exponent = omega_order // ntt_order\n",
    "ntt_omega = omega**coset_exponent\n",
    "print(f\"Using NTT group generator: {ntt_omega}, order: {ntt_omega.multiplicative_order()}\")"
   ]
  },
  {
   "cell_type": "markdown",
   "metadata": {},
   "source": [
    "Create the weight polynomial for the given evaluation point. This evaluation point will typically come from the verifier, and is known to the verifier. "
   ]
  },
  {
   "cell_type": "code",
   "execution_count": 5,
   "metadata": {
    "vscode": {
     "languageId": "python"
    }
   },
   "outputs": [
    {
     "name": "stdout",
     "output_type": "stream",
     "text": [
      "Prover's Weight polynomial: (1287*X₀*X₁*X₂ - 594*X₀*X₁ - 585*X₀*X₂ - 572*X₁*X₂ + 270*X₀ + 264*X₁ + 260*X₂ - 120)*Z\n"
     ]
    }
   ],
   "source": [
    "weight_poly = eq_weight_polynomial(WeightRing, evaluation_point)\n",
    "print(f\"Prover's Weight polynomial: {weight_poly}\")"
   ]
  },
  {
   "cell_type": "markdown",
   "metadata": {},
   "source": [
    "### Verifier (positive case)"
   ]
  },
  {
   "cell_type": "code",
   "execution_count": 6,
   "metadata": {
    "vscode": {
     "languageId": "python"
    }
   },
   "outputs": [
    {
     "name": "stdout",
     "output_type": "stream",
     "text": [
      "Sumcheck polynomial: 1287*X₀^2*X₁^2*X₂^2 - 3168*X₀^2*X₁^2*X₂ + 3276*X₀^2*X₁*X₂^2 - 5720*X₀*X₁^2*X₂^2 + 1188*X₀^2*X₁^2 + 6093*X₀^2*X₁*X₂ + 3784*X₀*X₁^2*X₂ - 1755*X₀^2*X₂^2 - 6838*X₀*X₁*X₂^2 + 2288*X₁^2*X₂^2 - 3510*X₀^2*X₁ - 528*X₀*X₁^2 - 2115*X₀^2*X₂ + 8785*X₀*X₁*X₂ - 1056*X₁^2*X₂ + 4290*X₀*X₂^2 + 2392*X₁*X₂^2 + 1350*X₀^2 - 2598*X₀*X₁ - 4775*X₀*X₂ - 5108*X₁*X₂ - 1560*X₂^2 + 1290*X₀ + 1848*X₁ + 2540*X₂ - 840\n"
     ]
    }
   ],
   "source": [
    "prover = WhirRound(input_poly, weight_poly, ntt_omega, pcs_evaluation_claim)\n",
    "print(f\"Sumcheck polynomial: {prover.sumcheck_poly}\")"
   ]
  },
  {
   "cell_type": "code",
   "execution_count": 7,
   "metadata": {
    "editable": true,
    "scrolled": true,
    "slideshow": {
     "slide_type": ""
    },
    "tags": [],
    "vscode": {
     "languageId": "python"
    }
   },
   "outputs": [
    {
     "name": "stdout",
     "output_type": "stream",
     "text": [
      "\n",
      "----- New Sumcheck Round -----\n",
      "\n",
      "Round-0 poly: 504*X₀^2 - 2051*X₀ + 812, challenge: None\n",
      "Hypercube sum 77 matches claimed sum 77\n",
      "Round-1 poly: -269987154*X₁^2 - 196926249*X₁ - 669995104, challenge: 970176965\n",
      "Hypercube sum 206362310 matches claimed sum 206362310\n",
      "New sumcheck claim: 206362310\n",
      "\n",
      "----- Next OOD + STIR Round -----\n",
      "\n",
      "Combination randomness 𝛾: 1019336606\n",
      "OOD challenge: 1300415762\n",
      "shift queries: [772607190, 1253260071]\n",
      "    Weight update for OOD challenge 1300415762 : Z*(259325105*X₁*X₂ - 842512712*X₁ + 271666596*X₂ + 220591782)\n",
      "    Weight update for shift query 772607190 : Z*(779449488*X₁*X₂ - 623750515*X₁ + 695854016*X₂ + 272402358)\n",
      "    Weight update for shift query 1253260071 : Z*(191116099*X₁*X₂ - 855563900*X₁ + 100838210*X₂ - 677049140)\n",
      "Final new weight: (-858970913*X₁*X₂ + 323427645*X₁ + 461575944*X₂ - 968461653)*Z\n",
      "\n",
      "----- New Sumcheck Round -----\n",
      "\n",
      "Round-0 poly: -433246494*X₁^2 + 776955451*X₁ + 493921307, challenge: None\n",
      "Hypercube sum -681714350 matches claimed sum -681714350\n",
      "Round-1 poly: 481539867*X₂^2 - 80232167*X₂ - 871977344, challenge: 213182280\n",
      "Hypercube sum 670618933 matches claimed sum 670618933\n",
      "New sumcheck claim: 670618933\n",
      "\n",
      "----- Next OOD + STIR Round -----\n",
      "\n",
      "Combination randomness 𝛾: 694758670\n",
      "OOD challenge: 95120085\n",
      "shift queries: [1, 1835875777]\n",
      "    Weight update for OOD challenge 95120085 : Z*(190240169*X₂ - 95120084)\n",
      "    Weight update for shift query 1 : Z*(X₂)\n",
      "    Weight update for shift query 1835875777 : Z*(-354780289*X₂ + 177390145)\n",
      "Final new weight: (-622646405*X₂ + 139788417)*Z\n",
      "\n",
      "----- Final Round -----\n",
      "\n",
      "PCS verification succeeded\n"
     ]
    }
   ],
   "source": [
    "verifier = WhirVerifier(weight_poly, ntt_omega, pcs_evaluation_claim)\n",
    "succes = verifier.validate_pcs_claim(prover)\n",
    "if succes == True:\n",
    "    print(f\"PCS verification succeeded\")\n",
    "else:\n",
    "    print(f\"PCS verification failed\")"
   ]
  },
  {
   "cell_type": "markdown",
   "metadata": {},
   "source": [
    "### Verifier (negative case)"
   ]
  },
  {
   "cell_type": "code",
   "execution_count": 8,
   "metadata": {
    "vscode": {
     "languageId": "python"
    }
   },
   "outputs": [
    {
     "name": "stdout",
     "output_type": "stream",
     "text": [
      "\n",
      "----- New Sumcheck Round -----\n",
      "\n",
      "Round-0 poly: 504*X₀^2 - 2051*X₀ + 812, challenge: None\n",
      "ERROR: Sumcheck claim failed\n",
      "PCS verification failed\n"
     ]
    }
   ],
   "source": [
    "prover = WhirRound(input_poly, weight_poly, ntt_omega, pcs_evaluation_claim)\n",
    "\n",
    "verifier = WhirVerifier(weight_poly, ntt_omega, pcs_evaluation_claim + 1)\n",
    "succes = verifier.validate_pcs_claim(prover)\n",
    "if succes == True:\n",
    "    print(f\"PCS verification succeeded\")\n",
    "else:\n",
    "    print(f\"PCS verification failed\")"
   ]
  }
 ],
 "metadata": {
  "kernelspec": {
   "display_name": "SageMath 10.5",
   "language": "sage",
   "name": "sagemath-10.5"
  },
  "language_info": {
   "codemirror_mode": {
    "name": "ipython",
    "version": 3
   },
   "file_extension": ".py",
   "mimetype": "text/x-python",
   "name": "sage",
   "nbconvert_exporter": "python",
   "pygments_lexer": "ipython3",
   "version": "3.12.5"
  }
 },
 "nbformat": 4,
 "nbformat_minor": 4
}
