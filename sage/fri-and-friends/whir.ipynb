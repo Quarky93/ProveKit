{
 "cells": [
  {
   "cell_type": "markdown",
   "metadata": {
    "editable": true,
    "slideshow": {
     "slide_type": ""
    },
    "tags": []
   },
   "source": [
    "# WHIR: Reed–Solomon Proximity Testing with Super-Fast Verification"
   ]
  },
  {
   "cell_type": "markdown",
   "metadata": {},
   "source": [
    "[WHIR](https://eprint.iacr.org/2024/1586) is a multivariate Polynomial Commitment Scheme (PCS) with three main ideas combined into one:\n",
    "\n",
    "1. Using sumcheck as a _proof_ of multilinear polynomial commitment. \n",
    "    Given, a multilinear polynomial $f(x_1, \\cdots, x_\\mu)$, it's \n",
    "    evaluation at a point $\\vec{a}$ can be written as \n",
    "    $f(\\vec{a}) = \\sum_{\\vec{b}\\in \\{0,1\\}^\\mu} f(\\vec{b})\\cdot \\mathsf{eq}(\\vec{b},\\vec{a})$.\n",
    "    The sumcheck protocol _reduces_ a claim of this form to a \n",
    "    claim about evaluating $f(\\vec{x})$ at a random point \n",
    "    $\\vec{r}$ of verifier's choosing. But this causes a problem: \n",
    "    If the verifier could not evaluate $f(\\vec{a})$ in the first place, \n",
    "    why would it be able to evaluate $f(\\vec{r})$? \n",
    "\n",
    "    The first main idea in WHIR (which first appeared in \n",
    "    [BaseFold](https://eprint.iacr.org/2023/1705.pdf)) \n",
    "    is that instead of reducing the sumcheck claim to a _random evaluation_, \n",
    "    one can **reduce the sumcheck claim to a Proof of Proximity** and a final evaluation. \n",
    "    To achieve this, WHIR intermixes sumcheck rounds with FRI rounds, and relies on \n",
    "    consistancy checks across FRI proof oracles to ensure soundness \n",
    "    across rounds. By the last round, the FRI proof oracle is small enough that\n",
    "    the sumcheck value can be directly computed and checked against expected value. \n",
    "    This is the gist of Basefold/WHIR reduction.\n",
    "\n",
    "3. The second idea in WHIR is to use lower rate codes to minimize FRI query \n",
    "   complexity (this idea first appeared in [STIR](https://eprint.iacr.org/2024/390.pdf) paper).\n",
    "   Unlike in STIR, however, WHIR elegantly avoids division operations during inter-round \n",
    "   consistancy checks by simply updating the sumcheck claim on prover and verifier side. \n",
    "\n",
    "4. The third idea is to use out of domain (OOD) queries to eliminate \"pretenders.\" This allows \n",
    "   WHIR to achieve better soundness even in in list-decoding region. This idea first \n",
    "   appeared in [DEEP-FRI](https://www.math.toronto.edu/swastik/deep-fri.pdf) paper."
   ]
  },
  {
   "cell_type": "markdown",
   "metadata": {},
   "source": [
    "The following code describes a run of the protocol. All the SageMath WHIR code is located in [src/whir.py](./src/whir.py) directory.\n",
    "\n",
    "File [src/proth_primes.py](./src/proth_primes.py) has a long list of [proth prime](https://en.wikipedia.org/wiki/Proth_prime), which are prime numbers of the form $k\\cdot2^n + 1$ for different values of $k$ and $n$. These primes are convinient for NTT operations."
   ]
  },
  {
   "cell_type": "code",
   "execution_count": 28,
   "metadata": {},
   "outputs": [
    {
     "name": "stdout",
     "output_type": "stream",
     "text": [
      "The autoreload extension is already loaded. To reload it, use:\n",
      "  %reload_ext autoreload\n"
     ]
    }
   ],
   "source": [
    "%load_ext autoreload\n",
    "%autoreload 2\n",
    "\n",
    "from src.proth_primes import proth_in_range\n",
    "from src.whir import *\n",
    "from sage.rings.finite_rings.all import GF\n",
    "from sage.rings.polynomial.all import PolynomialRing\n",
    "from sage.misc.functional import log"
   ]
  },
  {
   "cell_type": "code",
   "execution_count": 29,
   "metadata": {},
   "outputs": [
    {
     "name": "stdout",
     "output_type": "stream",
     "text": [
      "Using prime 2013265921 = 15⋅2^27 + 1\n",
      "Maximal 2-sylow multiplicative generator: 440564289\n",
      "Maximal 2-sylow multiplicative power: 27\n"
     ]
    }
   ],
   "source": [
    "(p, k, n) = proth_in_range(15, 15, 27,27)\n",
    "print(f\"Using prime {p} = {k}⋅2^{n} + 1\")\n",
    "Fq = GF(p)\n",
    "omega = Fq.multiplicative_generator() \n",
    "omega = omega**k\n",
    "omega_2sylow_expo = log(omega.multiplicative_order(), 2)\n",
    "print(f\"Maximal 2-sylow multiplicative generator: {omega}\")\n",
    "print(f\"Maximal 2-sylow multiplicative power: {omega_2sylow_expo}\")"
   ]
  },
  {
   "cell_type": "markdown",
   "metadata": {},
   "source": [
    "---\n",
    "### Setup\n",
    "\n",
    "Creating WHIR sumcheck with three variables and using a random multilinear polynomial."
   ]
  },
  {
   "cell_type": "code",
   "execution_count": 30,
   "metadata": {},
   "outputs": [
    {
     "name": "stdout",
     "output_type": "stream",
     "text": [
      "Using polyomial: X₀*X₁*X₂ - 2*X₀*X₁ + 3*X₀*X₂ - 4*X₁*X₂ + 5*X₀ - 6*X₂ + 7\n",
      "Evaluation point: [5, 6, 7]\n",
      "Evaluated value: 77\n"
     ]
    }
   ],
   "source": [
    "variables_count = 3\n",
    "code_rate_factor = 8\n",
    "sumcheck_rounds = 2\n",
    "shift_queries = 5\n",
    "\n",
    "PolyRing = gen_mvariate_ring(Fq, variables_count=variables_count)\n",
    "WeightRing = PolynomialRing(PolyRing, \"Z\") \n",
    "\n",
    "X0, X1, X2 = PolyRing.gens()\n",
    "Z = WeightRing.gen()\n",
    "\n",
    "input_poly = X0*X1*X2 - 2*X0*X1 + 3*X0*X2 - 4*X1*X2 + 5*X0 - 6*X2 + 7 # random_multilinear_poly(PolyRing);\n",
    "evaluation_point = [5, 6, 7] # [Fq.random_element() for _ in range(variables_count)]\n",
    "\n",
    "pcs_evaluation_claim = input_poly(evaluation_point)\n",
    "\n",
    "print(f\"Using polyomial: {input_poly}\")\n",
    "print(f\"Evaluation point: {evaluation_point}\")\n",
    "print(f\"Evaluated value: {input_poly(evaluation_point)}\")"
   ]
  },
  {
   "cell_type": "code",
   "execution_count": 31,
   "metadata": {},
   "outputs": [
    {
     "name": "stdout",
     "output_type": "stream",
     "text": [
      "Using NTT group generator: 1721589904, order: 64\n"
     ]
    }
   ],
   "source": [
    "ntt_order = code_rate_factor*(2**variables_count)\n",
    "omega_order = omega.multiplicative_order()\n",
    "assert omega_order % ntt_order == 0\n",
    "coset_exponent = omega_order // ntt_order\n",
    "ntt_omega = omega**coset_exponent\n",
    "print(f\"Using NTT group generator: {ntt_omega}, order: {ntt_omega.multiplicative_order()}\")"
   ]
  },
  {
   "cell_type": "markdown",
   "metadata": {},
   "source": [
    "Create the weight polynomial for the given evaluation point. This evaluation point will typically come from the verifier, and is known to the verifier. "
   ]
  },
  {
   "cell_type": "code",
   "execution_count": 32,
   "metadata": {},
   "outputs": [
    {
     "name": "stdout",
     "output_type": "stream",
     "text": [
      "Prover's Weight polynomial: (1287*X₀*X₁*X₂ - 594*X₀*X₁ - 585*X₀*X₂ - 572*X₁*X₂ + 270*X₀ + 264*X₁ + 260*X₂ - 120)*Z\n"
     ]
    }
   ],
   "source": [
    "weight_poly = eq_weight_polynomial(WeightRing, evaluation_point)\n",
    "print(f\"Prover's Weight polynomial: {weight_poly}\")"
   ]
  },
  {
   "cell_type": "markdown",
   "metadata": {},
   "source": [
    "### Verifier (positive case)"
   ]
  },
  {
   "cell_type": "code",
   "execution_count": 33,
   "metadata": {},
   "outputs": [
    {
     "name": "stdout",
     "output_type": "stream",
     "text": [
      "Sumcheck polynomial: 1287*X₀^2*X₁^2*X₂^2 - 3168*X₀^2*X₁^2*X₂ + 3276*X₀^2*X₁*X₂^2 - 5720*X₀*X₁^2*X₂^2 + 1188*X₀^2*X₁^2 + 6093*X₀^2*X₁*X₂ + 3784*X₀*X₁^2*X₂ - 1755*X₀^2*X₂^2 - 6838*X₀*X₁*X₂^2 + 2288*X₁^2*X₂^2 - 3510*X₀^2*X₁ - 528*X₀*X₁^2 - 2115*X₀^2*X₂ + 8785*X₀*X₁*X₂ - 1056*X₁^2*X₂ + 4290*X₀*X₂^2 + 2392*X₁*X₂^2 + 1350*X₀^2 - 2598*X₀*X₁ - 4775*X₀*X₂ - 5108*X₁*X₂ - 1560*X₂^2 + 1290*X₀ + 1848*X₁ + 2540*X₂ - 840\n"
     ]
    }
   ],
   "source": [
    "prover = WhirRound(input_poly, weight_poly, ntt_omega, pcs_evaluation_claim)\n",
    "print(f\"Sumcheck polynomial: {prover.sumcheck_poly}\")"
   ]
  },
  {
   "cell_type": "code",
   "execution_count": 34,
   "metadata": {
    "editable": true,
    "scrolled": true,
    "slideshow": {
     "slide_type": ""
    },
    "tags": []
   },
   "outputs": [
    {
     "name": "stdout",
     "output_type": "stream",
     "text": [
      "\n",
      "----- New Sumcheck Round -----\n",
      "\n",
      "Current sumcheck claim: 77\n",
      "Round-0 poly: 504*X₀^2 - 2051*X₀ + 812, challenge: None\n",
      "Hypercube sum 77 matches claimed sum 77\n",
      "Round-1 poly: -196376571*X₁^2 + 867974428*X₁ + 361497978, challenge: 190362828\n",
      "Hypercube sum -618672108 matches claimed sum -618672108\n",
      "Updated sumcheck claim: -618672108\n",
      "\n",
      "----- Next OOD + STIR Round -----\n",
      "\n",
      "Current Sumcheck claim: -618672108\n",
      "OOD challenge: 917162991\n",
      "Shift queries: [567209306, 1446056615]\n",
      "Combination randomness 𝛾: 248956837\n",
      "\n",
      "    P> Weight update for OOD challenge 917162991 => 193859772 : Z*(-535595695*X₁*X₂ - 828305083*X₁ - 957368568*X₂ + 20102789)\n",
      "    P> Weight update for shift query 567209306 : Z*(-272292132*X₁*X₂ - 303277589*X₁ + 931055832*X₂ + 257500392)\n",
      "    P> Weight update for shift query 1446056615 : Z*(-894081011*X₁*X₂ - 120168801*X₁ + 235317311*X₂ + 165945998)\n",
      "    P> Updated new weight: (476103156*X₁*X₂ - 663573339*X₁ + 824918329*X₂ + 326913381)*Z\n",
      "    P> Sumcheck claim combination randomness additional sum : 52014541\n",
      "    P> Updated Sumcheck claim: -566657567\n",
      "\n",
      "Prover OOD response: 193859772\n",
      "Verifier computed shift response: [(567209306, 1268303225), (1446056615, 127879397)]\n",
      "\n",
      "    V> Weight update for OOD challenge 917162991 => 193859772 : Z*(-535595695*X₁*X₂ - 828305083*X₁ - 957368568*X₂ + 20102789)\n",
      "    V> Weight update for shift query 567209306 => 1268303225 : Z*(-272292132*X₁*X₂ - 303277589*X₁ + 931055832*X₂ + 257500392)\n",
      "    V> Weight update for shift query 1446056615 => 127879397 : Z*(-894081011*X₁*X₂ - 120168801*X₁ + 235317311*X₂ + 165945998)\n",
      "    V> Updated new weight: (476103156*X₁*X₂ - 663573339*X₁ + 824918329*X₂ + 326913381)*Z\n",
      "    V> Sumcheck claim combination randomness additional sum : 52014541\n",
      "    V> Updated sumcheck claim: -566657567\n",
      "\n",
      "----- New Sumcheck Round -----\n",
      "\n",
      "Current sumcheck claim: -566657567\n",
      "Round-0 poly: -514450126*X₁^2 + 325020171*X₁ - 188613806, challenge: None\n",
      "Hypercube sum -566657567 matches claimed sum -566657567\n",
      "Round-1 poly: -801805983*X₂^2 + 205013056*X₂ - 385143611, challenge: 618746923\n",
      "Hypercube sum 646185772 matches claimed sum 646185772\n",
      "Updated sumcheck claim: 646185772\n",
      "\n",
      "----- Next OOD + STIR Round -----\n",
      "\n",
      "Current Sumcheck claim: 646185772\n",
      "OOD challenge: 804383910\n",
      "Shift queries: [78945800, 567209306]\n",
      "Combination randomness 𝛾: 1049857625\n",
      "\n",
      "    P> Weight update for OOD challenge 804383910 => 1739695939 : Z*(-404498102*X₂ - 804383909)\n",
      "    P> Weight update for shift query 78945800 : Z*(157891599*X₂ - 78945799)\n",
      "    P> Weight update for shift query 567209306 : Z*(-878847310*X₂ - 567209305)\n",
      "    P> Updated new weight: (54152683*X₂ - 767439949)*Z\n",
      "    P> Sumcheck claim combination randomness additional sum : 1906367982\n",
      "    P> Updated Sumcheck claim: 539287833\n",
      "\n",
      "Prover OOD response: 1739695939\n",
      "Verifier computed shift response: [(78945800, 395657078), (567209306, 461669566)]\n",
      "\n",
      "    V> Weight update for OOD challenge 804383910 => 1739695939 : Z*(-404498102*X₂ - 804383909)\n",
      "    V> Weight update for shift query 78945800 => 395657078 : Z*(157891599*X₂ - 78945799)\n",
      "    V> Weight update for shift query 567209306 => 461669566 : Z*(-878847310*X₂ - 567209305)\n",
      "    V> Updated new weight: (54152683*X₂ - 767439949)*Z\n",
      "    V> Sumcheck claim combination randomness additional sum : 1906367982\n",
      "    V> Updated sumcheck claim: 539287833\n",
      "\n",
      "----- Final Round -----\n",
      "\n",
      "Final Sumcheck claim: 539287833\n",
      "Final Folded Poly: -443718594*X₂ + 44718828\n",
      "Final evaluated sum: 539287833. Expected claimed sum: 539287833\n",
      "It's a match! PCS claim is valid.\n",
      "PCS verification succeeded\n"
     ]
    }
   ],
   "source": [
    "verifier = WhirVerifier(weight_poly, ntt_omega, pcs_evaluation_claim)\n",
    "succes = verifier.validate_pcs_claim(prover)\n",
    "if succes == True:\n",
    "    print(f\"PCS verification succeeded\")\n",
    "else:\n",
    "    print(f\"PCS verification failed\")"
   ]
  },
  {
   "cell_type": "markdown",
   "metadata": {},
   "source": [
    "### Verifier (negative case)"
   ]
  },
  {
   "cell_type": "code",
   "execution_count": 35,
   "metadata": {},
   "outputs": [
    {
     "name": "stdout",
     "output_type": "stream",
     "text": [
      "\n",
      "----- New Sumcheck Round -----\n",
      "\n",
      "Current sumcheck claim: 78\n",
      "Round-0 poly: 504*X₀^2 - 2051*X₀ + 812, challenge: None\n",
      "ERROR: Sumcheck claim failed\n",
      "PCS verification failed\n"
     ]
    }
   ],
   "source": [
    "prover = WhirRound(input_poly, weight_poly, ntt_omega, pcs_evaluation_claim)\n",
    "\n",
    "verifier = WhirVerifier(weight_poly, ntt_omega, pcs_evaluation_claim + 1)\n",
    "succes = verifier.validate_pcs_claim(prover)\n",
    "if succes == True:\n",
    "    print(f\"PCS verification succeeded\")\n",
    "else:\n",
    "    print(f\"PCS verification failed\")"
   ]
  }
 ],
 "metadata": {
  "kernelspec": {
   "display_name": "SageMath 10.5",
   "language": "sage",
   "name": "sagemath-10.5"
  },
  "language_info": {
   "codemirror_mode": {
    "name": "ipython",
    "version": 3
   },
   "file_extension": ".py",
   "mimetype": "text/x-python",
   "name": "python",
   "nbconvert_exporter": "python",
   "pygments_lexer": "ipython3",
   "version": "3.12.5"
  }
 },
 "nbformat": 4,
 "nbformat_minor": 4
}
